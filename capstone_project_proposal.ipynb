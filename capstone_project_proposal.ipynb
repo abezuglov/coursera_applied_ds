{
 "cells": [
  {
   "cell_type": "markdown",
   "metadata": {},
   "source": [
    "# Capstone project -- Neighborhood Match\n",
    "## Description of the problem"
   ]
  },
  {
   "cell_type": "markdown",
   "metadata": {},
   "source": [
    "An average american moves 11.4 times in their lifetime, according to U.S. Census bureau. In case of cross country relocations, people sometimes have little knowledge of the new residence and its surroundings and so it may take months to adapt. One way to mitigate the problem is to find neighborhood(s) that are similar to that of the persons' previous residence. \n",
    "\n",
    "As such, the goal of this project is to help people that are planning to move with finding the best fit neighborhood. The author also has a personal interest in the project as he is currently planning a cross-country move to Raleigh, North Carolina. The neighborhood to find similarity is also one of the authors' previous residences in Murraywood, Columbia, South Carolina. \n",
    "\n",
    "It is worth mentioning that even though these cities and neighborhoods have been chosen, the project code can easily adapt to work with practically *any* state in the United States.  \n",
    "\n",
    "The general approach to solution is clustering neighborhoods in Raleigh and identifying which cluster Murraywood is in. That cluster will contain similar neighborhoods that should be recommended."
   ]
  },
  {
   "cell_type": "markdown",
   "metadata": {},
   "source": [
    "## Data \n",
    "\n",
    "In previous works for this class, the exclusive source of neighborhood data was Foursquare. It will also be used in this project to pull venues data. In addition to Foursquare, in here we also collect and analyze socioeconomic data on neighborhood residents. Web resource http://www.city-data.com provides this information at neighborhood level. The following attributes for each neighborhood will be collected:\n",
    "\n",
    "* Neighborhood name\n",
    "* Area (sq. miles)\n",
    "* Population, males population, females population\n",
    "* Average household size\n",
    "* Average number of cars in apartments and houses\n",
    "* Medium age of residents (males and females separately)\n",
    "* Medium household income\n",
    "* Medium rent, mortgage payments, percent mortgages;\n",
    "* Percent of residents born in this state, in another U.S. state, foreign born residents\n",
    "* Percent married, never married females and never married males over age of 15\n",
    "* Percent of people not speaking English well\n",
    "* Percent of single mother households\n",
    "\n",
    "### Foursquare data\n",
    "\n",
    "As mentioned above, Foursquare will be used to pull data pertaining to venues within 500m radius. \n",
    "\n",
    "### List of neighborhoods\n",
    "http://www.city-data.com will also be used to compose the list of neighborhoods. Particularly, http://www.city-data.com/indexes/neighborhoods/NC/1/ returns the first page (51 pages total) of the list of neighborhoods in North Carolina area. "
   ]
  },
  {
   "cell_type": "markdown",
   "metadata": {},
   "source": [
    "## Examples of data used\n",
    "\n",
    "### Socioeconomic (city-data.com)\n",
    "Below is one example of city data for Anderson Heights neighborhood in Raleigh:\n",
    "\n",
    "* 'Area:': '0.370',\n",
    "* 'Population:': '964',\n",
    "* 'avg household size': '2.8 people',\n",
    "* 'avg number of cars apts': '1.9',\n",
    "* 'avg number of cars houses': '2.3',\n",
    "* 'males': '485',\n",
    "* 'med age females': '39.2 years',\n",
    "* 'med age males': '45.1 years',\n",
    "* 'med household income': '\\$161,702',\n",
    "* 'med rent': '$1,125',\n",
    "* 'pct born in another us state': '32.7%',\n",
    "* 'pct born in state': '62.0%',\n",
    "* 'pct families with children': '32.5%',\n",
    "* 'pct family household': '66.2%',\n",
    "* 'pct foreign born residents': '3.2%',\n",
    "* 'pct married couple': '77.0%',\n",
    "* 'pct native residents born outside us': '2.2%',\n",
    "* 'pct never married females, 15 years old and older': '8.5%',\n",
    "* 'pct never married males, 15 years old and older': '6.8%',\n",
    "* 'pct not speak English well': '0.0%',\n",
    "* 'pct single mother households': '1.8%',\n",
    "* 'pct units mortgage': '72.3%'\n",
    "\n",
    "This neighborhood is fairly large (964 people) with primarily U.S. born residents with above average household income. \n",
    "\n",
    "### Venues (Foursquare)\n",
    "The first five venues for Anderson Heights are below:\n",
    "*\tJersey Mike's Subs, Sandwich Place:\t34.075935\t-81.178343\n",
    "*\tHungry Howie's Pizza, Pizza Place:\t34.071897\t-81.175538\n",
    "*\tChapala, Mexican Restaurant:\t34.075010\t-81.178080\n",
    "*\tLoveland Coffee, Coffee Shop:\t34.075771\t-81.177871\n",
    "*\tSubway, Sandwich Place:\t34.071150\t-81.175505\n",
    "*\tSun Ming, Chinese Restaurant:\t34.087824\t-81.184906"
   ]
  },
  {
   "cell_type": "markdown",
   "metadata": {},
   "source": [
    "## Planned deliverables\n",
    "\n",
    "The expected deliverables are:\n",
    "1. Analysis of neighborhood clusters (number of clusters);\n",
    "2. The \"best fit\" cluster matching Murraywood and details on its neighborhoods;\n",
    "3. Map visualization (Raleigh, NC) area only;\n",
    "4. Discussion and conclusion;"
   ]
  },
  {
   "cell_type": "markdown",
   "metadata": {},
   "source": []
  }
 ],
 "metadata": {
  "kernelspec": {
   "display_name": "Python 3",
   "language": "python",
   "name": "python3"
  },
  "language_info": {
   "codemirror_mode": {
    "name": "ipython",
    "version": 3
   },
   "file_extension": ".py",
   "mimetype": "text/x-python",
   "name": "python",
   "nbconvert_exporter": "python",
   "pygments_lexer": "ipython3",
   "version": "3.4.5"
  }
 },
 "nbformat": 4,
 "nbformat_minor": 2
}
